{
 "cells": [
  {
   "cell_type": "markdown",
   "metadata": {},
   "source": [
    "## Fifa '21 Player data clean\n",
    "\n",
    "\n",
    "##### Import necessary python libraries."
   ]
  },
  {
   "cell_type": "code",
   "execution_count": 1,
   "metadata": {},
   "outputs": [],
   "source": [
    "import pandas as pd\n",
    "import decimal \n",
    "import os"
   ]
  },
  {
   "cell_type": "markdown",
   "metadata": {},
   "source": [
    "##### Import/translate fifa '21 .csv to dataframe.\n",
    "##### Link to .csv, https://www.kaggle.com/datasets/yagunnersya/fifa-21-messy-raw-dataset-for-cleaning-exploring?select=fifa21_raw_data.csv%E2%80%8B"
   ]
  },
  {
   "cell_type": "code",
   "execution_count": 2,
   "metadata": {},
   "outputs": [
    {
     "name": "stderr",
     "output_type": "stream",
     "text": [
      "C:\\Users\\swfaw\\AppData\\Local\\Temp\\ipykernel_19076\\830073151.py:1: DtypeWarning: Columns (76) have mixed types. Specify dtype option on import or set low_memory=False.\n",
      "  df = pd.read_csv('fifa21_raw_data.csv')\n"
     ]
    }
   ],
   "source": [
    "df = pd.read_csv('fifa21_raw_data.csv')"
   ]
  },
  {
   "cell_type": "markdown",
   "metadata": {},
   "source": [
    "#### Print data types for the height/weight columns to determnie how to conver to metric."
   ]
  },
  {
   "cell_type": "code",
   "execution_count": null,
   "metadata": {},
   "outputs": [],
   "source": [
    "print(df.dtypes[['Height','Weight']])\n",
    "print(df[['Height','Weight']])"
   ]
  },
  {
   "cell_type": "markdown",
   "metadata": {},
   "source": [
    "##### Convert Height column from string feet/inches to centimeters. \n",
    "##### Convert Weight column from string lbs to to kilos."
   ]
  },
  {
   "cell_type": "code",
   "execution_count": null,
   "metadata": {},
   "outputs": [],
   "source": [
    "def hwConvert(x):\n",
    "\n",
    "    if x.endswith('lbs') == True:\n",
    "        x = x.replace(\"lbs\",\"\")\n",
    "        a = str(round(int(x)*.453592))\n",
    "        return a + 'kg'\n",
    "    else:\n",
    "        x = x.replace(\"\\'\", \" \").replace(\"\\\"\", \"\").split()\n",
    "        a = int(x[0])*12 + int(x[1])\n",
    "        fin = str(round(a*2.54)) + 'cm'\n",
    "        return fin\n",
    "\n",
    "df['Weight'] = df['Weight'].map(hwConvert)\n",
    "df['Height'] = df['Height'].map(hwConvert)\n",
    "df[['Height','Weight']]"
   ]
  },
  {
   "cell_type": "markdown",
   "metadata": {},
   "source": [
    "##### Split Join Date column into seperate J_Month, J_Day, J_Year columns."
   ]
  },
  {
   "cell_type": "code",
   "execution_count": 5,
   "metadata": {},
   "outputs": [],
   "source": [
    "df[['J_Month', 'J_Day', 'J_Year']] = df.Joined.str.split(expand=True)\n",
    "df['J_Day'] = df['J_Day'].map(lambda x: x.replace(',',''))"
   ]
  },
  {
   "cell_type": "markdown",
   "metadata": {},
   "source": [
    "##### Convert value, wage, and release clause columns from string to integer values. And remove new character from hits column."
   ]
  },
  {
   "cell_type": "code",
   "execution_count": null,
   "metadata": {},
   "outputs": [],
   "source": [
    "df['Value'] = pd.to_numeric(df['Value'].str.lstrip('€').str.rstrip('KM'))\n",
    "df['Wage'] = pd.to_numeric(df['Wage'].str.lstrip('€').str.rstrip('KM'))\n",
    "df['Release Clause'] = pd.to_numeric(df['Release Clause'].str.lstrip('€').str.rstrip('KM'))\n",
    "\n",
    "df['Hits'] = df['Hits'].replace('\\n',' ',regex=True)\n",
    "df.dtypes[['Value','Wage','Release Clause','Hits']]\n"
   ]
  },
  {
   "cell_type": "markdown",
   "metadata": {},
   "source": [
    "##### Separate Team & Contract column into separate columns."
   ]
  },
  {
   "cell_type": "code",
   "execution_count": 7,
   "metadata": {},
   "outputs": [],
   "source": [
    "df['Team & Contract'] = df['Team & Contract'].str.lstrip('\\n').str.rstrip('\\n')\n",
    "df[['Team','Contract']] = df['Team & Contract'].str.split('\\n', expand=True)"
   ]
  },
  {
   "cell_type": "markdown",
   "metadata": {},
   "source": [
    "##### Output cleaned .csv"
   ]
  },
  {
   "cell_type": "code",
   "execution_count": 11,
   "metadata": {},
   "outputs": [],
   "source": [
    "#df.to_csv('fifa21_cleaned.csv')"
   ]
  }
 ],
 "metadata": {
  "kernelspec": {
   "display_name": "Python 3",
   "language": "python",
   "name": "python3"
  },
  "language_info": {
   "codemirror_mode": {
    "name": "ipython",
    "version": 3
   },
   "file_extension": ".py",
   "mimetype": "text/x-python",
   "name": "python",
   "nbconvert_exporter": "python",
   "pygments_lexer": "ipython3",
   "version": "3.10.11"
  }
 },
 "nbformat": 4,
 "nbformat_minor": 2
}
