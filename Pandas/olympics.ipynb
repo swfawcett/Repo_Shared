{
 "cells": [
  {
   "cell_type": "code",
   "execution_count": null,
   "metadata": {},
   "outputs": [],
   "source": [
    "import pandas as pd\n",
    "import numpy as np"
   ]
  },
  {
   "cell_type": "code",
   "execution_count": null,
   "metadata": {},
   "outputs": [],
   "source": [
    "oe = pd.read_csv('/home/athlete_events.csv')\n",
    "noc= pd.read_csv('/home/noc_regions.csv')"
   ]
  },
  {
   "cell_type": "code",
   "execution_count": null,
   "metadata": {},
   "outputs": [],
   "source": [
    "noc.head(5)"
   ]
  },
  {
   "cell_type": "code",
   "execution_count": null,
   "metadata": {},
   "outputs": [],
   "source": [
    "oe = oe.merge(noc,on=['NOC'])\n"
   ]
  },
  {
   "cell_type": "code",
   "execution_count": null,
   "metadata": {},
   "outputs": [],
   "source": [
    "oe.sample(5)"
   ]
  },
  {
   "cell_type": "code",
   "execution_count": null,
   "metadata": {},
   "outputs": [],
   "source": [
    "# 1. How many Olympics games have been held? List down all Olympics games held\n",
    "# so far and where they were held.\n",
    "\n",
    "oe[['Games','City']].drop_duplicates().sort_values(by='Games')"
   ]
  },
  {
   "cell_type": "code",
   "execution_count": null,
   "metadata": {},
   "outputs": [],
   "source": [
    "# 2. Which athlete from India won the most medals in Olympics (till 2016)?\n",
    "\n",
    "oe[(oe['Team'] == 'India') & (oe['Year'] < 2016)].groupby(['ID','Name'],dropna=False)['Medal'].count().reset_index().sort_values(by=['Medal'],ascending=False).head(3)"
   ]
  },
  {
   "cell_type": "code",
   "execution_count": null,
   "metadata": {},
   "outputs": [],
   "source": [
    "# 3. Mention the total number of nations who participated in each Olympics game.\n",
    "\n",
    "oe.groupby(['Games'])['NOC'].nunique().reset_index().sort_values(by='Games')"
   ]
  },
  {
   "cell_type": "code",
   "execution_count": null,
   "metadata": {},
   "outputs": [],
   "source": [
    "# 4. Which year saw the highest and lowest num of countries participating in Olympics?\n",
    "\n",
    "min_y = oe.groupby(['Year'])['region'].nunique().reset_index().sort_values(by=['region']).head(1)\n",
    "max_y = oe.groupby(['Year'])['region'].nunique().reset_index().sort_values(by=['region'],ascending=False).head(1)\n",
    "df = min_y.merge(max_y,how='cross',suffixes=('_min','_max'))\n",
    "df"
   ]
  },
  {
   "cell_type": "code",
   "execution_count": null,
   "metadata": {},
   "outputs": [],
   "source": [
    "# 5. Which nation(s) has participated in all of the Olympics games?\n",
    "x = max(oe.groupby(['region'])['Games'].nunique())\n",
    "oe.groupby(['region'])['Games'].nunique().reset_index().query('Games == @x')\n"
   ]
  },
  {
   "cell_type": "code",
   "execution_count": null,
   "metadata": {},
   "outputs": [],
   "source": [
    "# 6. Identify the sport which was played in all summer Olympics\n",
    "\n",
    "x = oe[oe['Games'].str.contains('Summer')].nunique()['Games']\n",
    "df = oe[oe['Games'].str.contains('Summer')].groupby(['Sport'])['Games'].nunique().reset_index()\n",
    "df[df['Games'] == x]\n"
   ]
  },
  {
   "cell_type": "code",
   "execution_count": null,
   "metadata": {},
   "outputs": [],
   "source": [
    "# 7. Which Sports were just played only once in the Olympics?\n",
    "\n",
    "df = oe.groupby(['Sport'])['Games'].nunique().reset_index()\n",
    "df[df['Games'] == 1]"
   ]
  },
  {
   "cell_type": "code",
   "execution_count": null,
   "metadata": {},
   "outputs": [],
   "source": [
    "# 8. Fetch the total no of sports played in each Olympics games.\n",
    "\n",
    "oe.groupby(['Games'])['Sport'].nunique().reset_index()"
   ]
  },
  {
   "cell_type": "code",
   "execution_count": null,
   "metadata": {},
   "outputs": [],
   "source": [
    "# 9. Fetch details of the oldest athletes to win a gold medal.\n",
    "\n",
    "oe[oe['Medal']=='Gold'].sort_values(by=['Age'],ascending=False).head(25)"
   ]
  },
  {
   "cell_type": "code",
   "execution_count": null,
   "metadata": {},
   "outputs": [],
   "source": [
    "# 10.Find the Ratio of male and female athletes participated in all Olympics games.\n",
    "\n",
    "m = oe[oe['Sex']=='M'].groupby(['Games'])['Name'].nunique().reset_index()\n",
    "f = oe[oe['Sex']=='F'].groupby(['Games'])['Name'].nunique().reset_index()\n",
    "df = m.merge(f,on=['Games'],how='left').fillna(0)\n",
    "df['m_r'] = df.apply(lambda x: f'{round(x.Name_x/(x.Name_x + x.Name_y)*100,2)}%',axis=1)\n",
    "df['f_r'] = df.apply(lambda x: f'{round(x.Name_y/(x.Name_x + x.Name_y)*100,2)}%',axis=1)\n",
    "df"
   ]
  },
  {
   "cell_type": "code",
   "execution_count": null,
   "metadata": {},
   "outputs": [],
   "source": [
    "# 11.Fetch the top 5 athletes who have won the most gold medals\n",
    "\n",
    "oe[oe['Medal'] == 'Gold'].groupby(['Name'])['Medal'].count().reset_index().sort_values(by=['Medal'],ascending=False).head(5)"
   ]
  },
  {
   "cell_type": "code",
   "execution_count": null,
   "metadata": {},
   "outputs": [],
   "source": [
    "# 12.Fetch the top 5 athletes who have won the most medals (gold/silver/bronze).\n",
    "\n",
    "oe[oe['Medal'].isna()==False].groupby(['Name'])['Medal'].count().reset_index().sort_values(by=['Medal'],ascending=False).head(5)"
   ]
  },
  {
   "cell_type": "code",
   "execution_count": null,
   "metadata": {},
   "outputs": [],
   "source": [
    "# 13.Fetch the top 5 most successful countries in Olympics. Success is defined\n",
    "# by no. of medals won.\n",
    "\n",
    "oe[oe['Medal'].isna()==False].groupby(['region'])['Medal'].count().reset_index().sort_values(by=['Medal'],ascending=False).head(5)"
   ]
  },
  {
   "cell_type": "code",
   "execution_count": null,
   "metadata": {},
   "outputs": [],
   "source": [
    "# 14.List down total gold, silver, and bronze medals won by each country.\n",
    "pt = oe[oe['Medal'].isna()==False].groupby(['region','Medal'])['NOC'].count().reset_index()\n",
    "pd.pivot_table(pt,index='region',columns='Medal',values='NOC').fillna(0)"
   ]
  },
  {
   "cell_type": "code",
   "execution_count": null,
   "metadata": {},
   "outputs": [],
   "source": [
    "# 15.List down total gold, silver and bronze medals won by each country\n",
    "# corresponding to each Olympics games.\n",
    "\n",
    "pt = oe[oe['Medal'].isna()==False].groupby(['region','Games','Medal'])['NOC'].count().reset_index()\n",
    "x = pd.pivot_table(pt,index=['region','Games'],columns='Medal',values='NOC').fillna(0).reset_index()\n",
    "x[['Gold']].astype(int)\n",
    "x"
   ]
  },
  {
   "cell_type": "code",
   "execution_count": null,
   "metadata": {},
   "outputs": [],
   "source": [
    "# 16.Identify which country won the most gold, most silver and\n",
    "# most bronze medals in each Olympics games.\n",
    "\n",
    "pt = oe[oe['Medal'].isna()==False].groupby(['region','Games','Medal'])['NOC'].count().reset_index()\n",
    "x = pd.pivot_table(pt,index=['region','Games'],columns='Medal',values='NOC').fillna(0).reset_index()\n",
    "x_b = x\n",
    "x_b['max_bronze'] = x_b.groupby(['Games'])['Bronze'].transform('max')\n",
    "x_b = x_b[x_b['Bronze']==x_b['max_bronze']][['Games','region','max_bronze']]\n",
    "x_s = x\n",
    "x_s['max_silver'] = x_s.groupby(['Games'])['Silver'].transform('max')\n",
    "x_s = x_s[x_s['Silver']==x_s['max_silver']][['Games','region','max_silver']]\n",
    "x_g = x\n",
    "x_g['max_gold'] = x_g.groupby(['Games'])['Gold'].transform('max')\n",
    "x_g = x_g[x_g['Gold']==x_g['max_gold']][['Games','region','max_gold']]\n",
    "df = x_b.merge(x_s,on=['Games'],suffixes=['_bronze','_silver']).merge(x_g,on=['Games']).sort_values(by=['Games'])\n",
    "df"
   ]
  },
  {
   "cell_type": "code",
   "execution_count": null,
   "metadata": {},
   "outputs": [],
   "source": [
    "# 17.Identify which country won the most gold, most silver, most bronze medals and\n",
    "# the most medals in each Olympics games.\n",
    "\n",
    "pt = oe[oe['Medal'].isna()==False].groupby(['region','Games','Medal'])['NOC'].count().reset_index()\n",
    "x = pd.pivot_table(pt,index=['region','Games'],columns='Medal',values='NOC').fillna(0).reset_index()\n",
    "x_b = x\n",
    "x_b['max_bronze'] = x_b.groupby(['Games'])['Bronze'].transform('max')\n",
    "x_b = x_b[x_b['Bronze']==x_b['max_bronze']][['Games','region','max_bronze']]\n",
    "x_s = x\n",
    "x_s['max_silver'] = x_s.groupby(['Games'])['Silver'].transform('max')\n",
    "x_s = x_s[x_s['Silver']==x_s['max_silver']][['Games','region','max_silver']]\n",
    "x_g = x\n",
    "x_g['max_gold'] = x_g.groupby(['Games'])['Gold'].transform('max')\n",
    "x_g = x_g[x_g['Gold']==x_g['max_gold']][['Games','region','max_gold']]\n",
    "df\n",
    "pt1 = pt.groupby(['Games','region',])['NOC'].sum().reset_index()\n",
    "pt1['max_all'] = pt1.groupby(['Games'])['NOC'].transform('max')\n",
    "pt1 = pt1[pt1['NOC'] == pt1['max_all']][['Games','region','max_all']]\n",
    "df = x_b.merge(x_s,on=['Games'],suffixes=['_bronze','_silver']).merge(x_g,on=['Games']).merge(pt1,on=['Games'],suffixes=['_gold','_total'])\n",
    "df.sort_values(by=['Games'])\n"
   ]
  },
  {
   "cell_type": "code",
   "execution_count": null,
   "metadata": {},
   "outputs": [],
   "source": [
    "# 18.Which countries have never won gold medal but have won silver/bronze medals?\n",
    "\n",
    "pt = oe[oe['Medal'].isna()==False].groupby(['region','Games','Medal'])['NOC'].count().reset_index()\n",
    "x = pd.pivot_table(pt,index=['region','Games'],columns='Medal',values='NOC').fillna(0).reset_index()\n",
    "x = x.groupby(['region'])[['Bronze','Silver','Gold']].sum().reset_index()\n",
    "x[x.Gold==0]\n"
   ]
  },
  {
   "cell_type": "code",
   "execution_count": null,
   "metadata": {},
   "outputs": [],
   "source": [
    "# 19.In which Sport/event, has India won the highest no. of medals.\n",
    "\n",
    "ind_med=oe[(oe.region == 'India')&(oe.Medal.isna()==False)].groupby(['Sport','Event'])['Medal'].count().reset_index()\n",
    "ind_med.sort_values(by=['Medal'],ascending=False).head(3)\n"
   ]
  },
  {
   "cell_type": "code",
   "execution_count": null,
   "metadata": {},
   "outputs": [],
   "source": [
    "# 20.Break down all Olympics games where India won medal for Hockey and how\n",
    "# many medals in each Olympics games.\n",
    "ind_med=oe[(oe.region == 'India')&(oe.Medal.isna()==False)].groupby(['Games','Sport'])['Medal'].count().reset_index()\n",
    "ind_med[ind_med.Sport=='Hockey']\n",
    "\n"
   ]
  }
 ],
 "metadata": {
  "kernelspec": {
   "display_name": "pgenv",
   "language": "python",
   "name": "python3"
  },
  "language_info": {
   "codemirror_mode": {
    "name": "ipython",
    "version": 3
   },
   "file_extension": ".py",
   "mimetype": "text/x-python",
   "name": "python",
   "nbconvert_exporter": "python",
   "pygments_lexer": "ipython3",
   "version": "3.12.3"
  }
 },
 "nbformat": 4,
 "nbformat_minor": 2
}
